{
 "cells": [
  {
   "cell_type": "code",
   "execution_count": 7,
   "metadata": {},
   "outputs": [],
   "source": [
    "import json\n",
    "import os\n",
    "\n",
    "import pandas as pd\n",
    "import requests"
   ]
  },
  {
   "cell_type": "code",
   "execution_count": 8,
   "metadata": {},
   "outputs": [],
   "source": [
    "url = \"https://data.cityofchicago.org/resource/ajtu-isnz.json?trip_id=643d362453cf621e591daea5d2749610e5e01481\"\n",
    "\n",
    "headers = {\"X-App-Token\": os.environ.get(\"CHICAGO_API-TOKEN\")}\n",
    "\n",
    "response = requests.get(url, headers)\n",
    "\n",
    "data = response.json()"
   ]
  },
  {
   "cell_type": "code",
   "execution_count": 9,
   "metadata": {},
   "outputs": [
    {
     "data": {
      "text/plain": [
       "[{'trip_id': '643d362453cf621e591daea5d2749610e5e01481',\n",
       "  'taxi_id': '1a6d17595bc577385346e034ecbe0994d8f207d47d5b4c6f9fee70a1d4f37417db300370d59596dc2dd0bda2e35794bcdfd1bbead90d84a44aedd978ed269944',\n",
       "  'trip_start_timestamp': '2024-01-01T23:45:00.000',\n",
       "  'trip_end_timestamp': '2024-01-02T00:00:00.000',\n",
       "  'trip_seconds': '1342',\n",
       "  'trip_miles': '18.73',\n",
       "  'pickup_census_tract': '17031980000',\n",
       "  'dropoff_census_tract': '17031320100',\n",
       "  'pickup_community_area': '76',\n",
       "  'dropoff_community_area': '32',\n",
       "  'fare': '45.75',\n",
       "  'tips': '5.5',\n",
       "  'tolls': '0',\n",
       "  'extras': '4',\n",
       "  'trip_total': '55.75',\n",
       "  'payment_type': 'Credit Card',\n",
       "  'company': '5 Star Taxi',\n",
       "  'pickup_centroid_latitude': '41.97907082',\n",
       "  'pickup_centroid_longitude': '-87.903039661',\n",
       "  'pickup_centroid_location': {'type': 'Point',\n",
       "   'coordinates': [-87.9030396611, 41.9790708201]},\n",
       "  'dropoff_centroid_latitude': '41.884987192',\n",
       "  'dropoff_centroid_longitude': '-87.620992913',\n",
       "  'dropoff_centroid_location': {'type': 'Point',\n",
       "   'coordinates': [-87.6209929134, 41.8849871918]}}]"
      ]
     },
     "execution_count": 9,
     "metadata": {},
     "output_type": "execute_result"
    }
   ],
   "source": [
    "data"
   ]
  },
  {
   "cell_type": "code",
   "execution_count": null,
   "metadata": {},
   "outputs": [],
   "source": []
  },
  {
   "cell_type": "code",
   "execution_count": null,
   "metadata": {},
   "outputs": [],
   "source": []
  }
 ],
 "metadata": {
  "kernelspec": {
   "display_name": "Python 3",
   "language": "python",
   "name": "python3"
  },
  "language_info": {
   "codemirror_mode": {
    "name": "ipython",
    "version": 3
   },
   "file_extension": ".py",
   "mimetype": "text/x-python",
   "name": "python",
   "nbconvert_exporter": "python",
   "pygments_lexer": "ipython3",
   "version": "3.11.1"
  }
 },
 "nbformat": 4,
 "nbformat_minor": 2
}
